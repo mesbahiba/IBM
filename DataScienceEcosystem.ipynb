{
 "cells": [
  {
   "cell_type": "markdown",
   "id": "1dc27566-7f14-4dac-84fe-a95c38a8718f",
   "metadata": {
    "tags": []
   },
   "source": [
    "                                                       Data Science Tools and Ecosystem"
   ]
  },
  {
   "cell_type": "markdown",
   "id": "95013b71-e1fa-4c9a-988e-065c9b012695",
   "metadata": {
    "tags": []
   },
   "source": [
    "**Author:**\n",
    "-  Mesbah\n"
   ]
  },
  {
   "cell_type": "markdown",
   "id": "eda8d3f2-6a0a-4271-866e-2f649347d036",
   "metadata": {},
   "source": [
    "In this notebook, Data Science Tools and Ecosystem are summarized."
   ]
  },
  {
   "cell_type": "markdown",
   "id": "14aef06f-77d9-4d3b-8865-ce6ed286b36c",
   "metadata": {},
   "source": [
    "**Objectives:**\n",
    "-  List of popular laguages for data science\n",
    "-  Common libraries for data science\n",
    "-  Data science tools"
   ]
  },
  {
   "cell_type": "markdown",
   "id": "c7ea5350-e0ac-4fe5-82f0-9ae91f0f34e9",
   "metadata": {},
   "source": [
    "Some of the popular languages that Data Scientists use are:\n",
    "1. Python\n",
    "2. Spark\n",
    "3. Java\n",
    "4. Julia"
   ]
  },
  {
   "cell_type": "markdown",
   "id": "047d3505-df35-462b-97d9-dce1d0abf7ae",
   "metadata": {},
   "source": [
    "Some of the commonly used libraries used by Data Scientists include:\n",
    "1. Pandas\n",
    "2. NumPy\n",
    "3. Matplotlib\n",
    "4. ScikitLearn"
   ]
  },
  {
   "cell_type": "markdown",
   "id": "c9e04de2-0806-417d-a99e-416b9485e65c",
   "metadata": {},
   "source": [
    "| Data Science Tools|\n",
    "|-------------------|\n",
    "|Python|\n",
    "|R|\n",
    "|Julia|\n"
   ]
  },
  {
   "cell_type": "markdown",
   "id": "1a3e8f45-2fd4-4378-a45e-6059dd86da53",
   "metadata": {},
   "source": [
    "Below are a few examples of evaluating arithmetic expressions in Python"
   ]
  },
  {
   "cell_type": "code",
   "execution_count": 1,
   "id": "716bc73a-3f8a-4492-8fc8-98408c58543b",
   "metadata": {
    "tags": []
   },
   "outputs": [
    {
     "data": {
      "text/plain": [
       "10"
      ]
     },
     "execution_count": 1,
     "metadata": {},
     "output_type": "execute_result"
    }
   ],
   "source": [
    "3+7"
   ]
  },
  {
   "cell_type": "code",
   "execution_count": 2,
   "id": "333e72a8-a566-4cf9-9e97-7564c09ef3cb",
   "metadata": {
    "tags": []
   },
   "outputs": [
    {
     "data": {
      "text/plain": [
       "1"
      ]
     },
     "execution_count": 2,
     "metadata": {},
     "output_type": "execute_result"
    }
   ],
   "source": [
    "4-3"
   ]
  },
  {
   "cell_type": "code",
   "execution_count": 3,
   "id": "854b0f41-5f50-43aa-8dbf-03e1f4de17e4",
   "metadata": {
    "tags": []
   },
   "outputs": [
    {
     "data": {
      "text/plain": [
       "17"
      ]
     },
     "execution_count": 3,
     "metadata": {},
     "output_type": "execute_result"
    }
   ],
   "source": [
    "##This a simple arithmetic expression to mutiply then add integers\n",
    "(3*4)+5"
   ]
  },
  {
   "cell_type": "code",
   "execution_count": 7,
   "id": "a2eb837d-9c8e-4111-bcc8-2b00b8df335d",
   "metadata": {
    "tags": []
   },
   "outputs": [
    {
     "data": {
      "text/plain": [
       "3"
      ]
     },
     "execution_count": 7,
     "metadata": {},
     "output_type": "execute_result"
    }
   ],
   "source": [
    "##This will convert 200 minutes to hours by diving by 60\n",
    "int(200/60)"
   ]
  },
  {
   "cell_type": "markdown",
   "id": "a87e4282-3d2d-4f89-b06f-77c6f7e7c8ee",
   "metadata": {},
   "source": []
  }
 ],
 "metadata": {
  "kernelspec": {
   "display_name": "Python",
   "language": "python",
   "name": "conda-env-python-py"
  },
  "language_info": {
   "codemirror_mode": {
    "name": "ipython",
    "version": 3
   },
   "file_extension": ".py",
   "mimetype": "text/x-python",
   "name": "python",
   "nbconvert_exporter": "python",
   "pygments_lexer": "ipython3",
   "version": "3.7.12"
  }
 },
 "nbformat": 4,
 "nbformat_minor": 5
}
